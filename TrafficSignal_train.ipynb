{
 "cells": [
  {
   "cell_type": "code",
   "execution_count": 1,
   "metadata": {},
   "outputs": [
    {
     "name": "stderr",
     "output_type": "stream",
     "text": [
      "/home/pk/.local/lib/python3.6/site-packages/tensorflow/python/framework/dtypes.py:526: FutureWarning: Passing (type, 1) or '1type' as a synonym of type is deprecated; in a future version of numpy, it will be understood as (type, (1,)) / '(1,)type'.\n",
      "  _np_qint8 = np.dtype([(\"qint8\", np.int8, 1)])\n",
      "/home/pk/.local/lib/python3.6/site-packages/tensorflow/python/framework/dtypes.py:527: FutureWarning: Passing (type, 1) or '1type' as a synonym of type is deprecated; in a future version of numpy, it will be understood as (type, (1,)) / '(1,)type'.\n",
      "  _np_quint8 = np.dtype([(\"quint8\", np.uint8, 1)])\n",
      "/home/pk/.local/lib/python3.6/site-packages/tensorflow/python/framework/dtypes.py:528: FutureWarning: Passing (type, 1) or '1type' as a synonym of type is deprecated; in a future version of numpy, it will be understood as (type, (1,)) / '(1,)type'.\n",
      "  _np_qint16 = np.dtype([(\"qint16\", np.int16, 1)])\n",
      "/home/pk/.local/lib/python3.6/site-packages/tensorflow/python/framework/dtypes.py:529: FutureWarning: Passing (type, 1) or '1type' as a synonym of type is deprecated; in a future version of numpy, it will be understood as (type, (1,)) / '(1,)type'.\n",
      "  _np_quint16 = np.dtype([(\"quint16\", np.uint16, 1)])\n",
      "/home/pk/.local/lib/python3.6/site-packages/tensorflow/python/framework/dtypes.py:530: FutureWarning: Passing (type, 1) or '1type' as a synonym of type is deprecated; in a future version of numpy, it will be understood as (type, (1,)) / '(1,)type'.\n",
      "  _np_qint32 = np.dtype([(\"qint32\", np.int32, 1)])\n",
      "/home/pk/.local/lib/python3.6/site-packages/tensorflow/python/framework/dtypes.py:535: FutureWarning: Passing (type, 1) or '1type' as a synonym of type is deprecated; in a future version of numpy, it will be understood as (type, (1,)) / '(1,)type'.\n",
      "  np_resource = np.dtype([(\"resource\", np.ubyte, 1)])\n",
      "Using TensorFlow backend.\n"
     ]
    }
   ],
   "source": [
    "import numpy as np\n",
    "import pandas as pd\n",
    "import cv2\n",
    "import matplotlib.pyplot as plt\n",
    "import tensorflow as tf\n",
    "import os\n",
    "\n",
    "from PIL import Image\n",
    "from sklearn.model_selection import train_test_split\n",
    "from keras.utils import to_categorical\n",
    "from keras.models import load_model, Model\n",
    "from keras.layers import Input, Conv2D, MaxPool2D, Dense, Flatten, Dropout"
   ]
  },
  {
   "cell_type": "code",
   "execution_count": 2,
   "metadata": {},
   "outputs": [],
   "source": [
    "data = []\n",
    "labels = [] \n",
    "classes = 43\n",
    "cur_path = os.getcwd()"
   ]
  },
  {
   "cell_type": "code",
   "execution_count": 3,
   "metadata": {},
   "outputs": [
    {
     "name": "stdout",
     "output_type": "stream",
     "text": [
      "(39209, 50, 50, 3) (39209,)\n"
     ]
    }
   ],
   "source": [
    "for i in range(classes):\n",
    "    path = os.path.join(cur_path, 'train', str(i))\n",
    "    images = os.listdir(path)\n",
    "    \n",
    "    for a in images:\n",
    "        try:\n",
    "            image = Image.open(path + '/' + a)\n",
    "            image = image.resize((50,50))\n",
    "            image = np.array(image)\n",
    "            \n",
    "            data.append(image)\n",
    "            labels.append(i)\n",
    "        except:\n",
    "            print(\"Error loading Image\")\n",
    "            \n",
    "data = np.array(data)\n",
    "labels = np.array(labels)\n",
    "\n",
    "print(data.shape, labels.shape)"
   ]
  },
  {
   "cell_type": "code",
   "execution_count": 4,
   "metadata": {},
   "outputs": [
    {
     "name": "stdout",
     "output_type": "stream",
     "text": [
      "(31367, 50, 50, 3) (7842, 50, 50, 3) (31367,) (7842,)\n"
     ]
    }
   ],
   "source": [
    "x_train, x_test, y_train, y_test = train_test_split(data, labels, test_size=0.2, random_state=42)\n",
    "print(x_train.shape, x_test.shape, y_train.shape, y_test.shape)"
   ]
  },
  {
   "cell_type": "code",
   "execution_count": 5,
   "metadata": {},
   "outputs": [],
   "source": [
    "y_train = to_categorical(y_train, 43)\n",
    "y_test = to_categorical(y_test, 43)"
   ]
  },
  {
   "cell_type": "code",
   "execution_count": 6,
   "metadata": {
    "scrolled": true
   },
   "outputs": [
    {
     "name": "stdout",
     "output_type": "stream",
     "text": [
      "WARNING:tensorflow:From /home/pk/.local/lib/python3.6/site-packages/tensorflow/python/framework/op_def_library.py:263: colocate_with (from tensorflow.python.framework.ops) is deprecated and will be removed in a future version.\n",
      "Instructions for updating:\n",
      "Colocations handled automatically by placer.\n",
      "WARNING:tensorflow:From /usr/local/lib/python3.6/dist-packages/keras/backend/tensorflow_backend.py:3733: calling dropout (from tensorflow.python.ops.nn_ops) with keep_prob is deprecated and will be removed in a future version.\n",
      "Instructions for updating:\n",
      "Please use `rate` instead of `keep_prob`. Rate should be set to `rate = 1 - keep_prob`.\n",
      "Model: \"model_1\"\n",
      "_________________________________________________________________\n",
      "Layer (type)                 Output Shape              Param #   \n",
      "=================================================================\n",
      "input_1 (InputLayer)         (None, 50, 50, 3)         0         \n",
      "_________________________________________________________________\n",
      "conv2d_1 (Conv2D)            (None, 48, 48, 32)        896       \n",
      "_________________________________________________________________\n",
      "conv2d_2 (Conv2D)            (None, 46, 46, 32)        9248      \n",
      "_________________________________________________________________\n",
      "max_pooling2d_1 (MaxPooling2 (None, 23, 23, 32)        0         \n",
      "_________________________________________________________________\n",
      "dropout_1 (Dropout)          (None, 23, 23, 32)        0         \n",
      "_________________________________________________________________\n",
      "conv2d_3 (Conv2D)            (None, 21, 21, 64)        18496     \n",
      "_________________________________________________________________\n",
      "conv2d_4 (Conv2D)            (None, 19, 19, 64)        36928     \n",
      "_________________________________________________________________\n",
      "max_pooling2d_2 (MaxPooling2 (None, 9, 9, 64)          0         \n",
      "_________________________________________________________________\n",
      "dropout_2 (Dropout)          (None, 9, 9, 64)          0         \n",
      "_________________________________________________________________\n",
      "conv2d_5 (Conv2D)            (None, 7, 7, 64)          36928     \n",
      "_________________________________________________________________\n",
      "conv2d_6 (Conv2D)            (None, 5, 5, 64)          36928     \n",
      "_________________________________________________________________\n",
      "max_pooling2d_3 (MaxPooling2 (None, 2, 2, 64)          0         \n",
      "_________________________________________________________________\n",
      "dropout_3 (Dropout)          (None, 2, 2, 64)          0         \n",
      "_________________________________________________________________\n",
      "flatten_1 (Flatten)          (None, 256)               0         \n",
      "_________________________________________________________________\n",
      "dense_1 (Dense)              (None, 256)               65792     \n",
      "_________________________________________________________________\n",
      "dropout_4 (Dropout)          (None, 256)               0         \n",
      "_________________________________________________________________\n",
      "dense_2 (Dense)              (None, 43)                11051     \n",
      "=================================================================\n",
      "Total params: 216,267\n",
      "Trainable params: 216,267\n",
      "Non-trainable params: 0\n",
      "_________________________________________________________________\n",
      "None\n"
     ]
    }
   ],
   "source": [
    "input_signal = Input(shape=(x_train.shape[1:]))\n",
    "\n",
    "conv1 = Conv2D(filters=32, kernel_size=(3,3), activation='relu')(input_signal)\n",
    "conv2 = Conv2D(filters=32, kernel_size=(3,3), activation='relu')(conv1)\n",
    "pool1 = MaxPool2D(pool_size=(2,2))(conv2)\n",
    "drop1 = Dropout(0.25)(pool1)\n",
    "\n",
    "conv3 = Conv2D(filters=64, kernel_size=(3,3), activation='relu')(drop1)\n",
    "conv4 = Conv2D(filters=64, kernel_size=(3,3), activation='relu')(conv3)\n",
    "pool2 = MaxPool2D(pool_size=(2,2))(conv4)\n",
    "drop2 = Dropout(0.25)(pool2)\n",
    "\n",
    "conv5 = Conv2D(filters=64, kernel_size=(3,3), activation='relu')(drop2)\n",
    "conv6 = Conv2D(filters=64, kernel_size=(3,3), activation='relu')(conv5)\n",
    "pool3 = MaxPool2D(pool_size=(2,2))(conv6)\n",
    "drop3 = Dropout(0.25)(pool3)\n",
    "\n",
    "flat = Flatten()(drop3)\n",
    "hidden1 = Dense(256, activation='relu')(flat)\n",
    "drop = Dropout(0.25)(hidden1)\n",
    "out = Dense(43, activation='softmax')(drop)\n",
    "\n",
    "model = Model(input_signal, out)\n",
    "print(model.summary())"
   ]
  },
  {
   "cell_type": "code",
   "execution_count": 7,
   "metadata": {},
   "outputs": [
    {
     "name": "stdout",
     "output_type": "stream",
     "text": [
      "WARNING:tensorflow:From /home/pk/.local/lib/python3.6/site-packages/tensorflow/python/ops/math_ops.py:3066: to_int32 (from tensorflow.python.ops.math_ops) is deprecated and will be removed in a future version.\n",
      "Instructions for updating:\n",
      "Use tf.cast instead.\n",
      "Train on 31367 samples, validate on 7842 samples\n",
      "Epoch 1/25\n",
      "31367/31367 [==============================] - 163s 5ms/step - loss: 1.8706 - acc: 0.5045 - val_loss: 0.3261 - val_acc: 0.9198\n",
      "Epoch 2/25\n",
      "31367/31367 [==============================] - 60s 2ms/step - loss: 0.4427 - acc: 0.8726 - val_loss: 0.1017 - val_acc: 0.9759\n",
      "Epoch 3/25\n",
      "31367/31367 [==============================] - 62s 2ms/step - loss: 0.2507 - acc: 0.9303 - val_loss: 0.0783 - val_acc: 0.9793\n",
      "Epoch 4/25\n",
      "31367/31367 [==============================] - 59s 2ms/step - loss: 0.1810 - acc: 0.9484 - val_loss: 0.0610 - val_acc: 0.9828\n",
      "Epoch 5/25\n",
      "31367/31367 [==============================] - 58s 2ms/step - loss: 0.1350 - acc: 0.9624 - val_loss: 0.0325 - val_acc: 0.9918\n",
      "Epoch 6/25\n",
      "31367/31367 [==============================] - 58s 2ms/step - loss: 0.1196 - acc: 0.9664 - val_loss: 0.0314 - val_acc: 0.9915\n",
      "Epoch 7/25\n",
      "31367/31367 [==============================] - 58s 2ms/step - loss: 0.1140 - acc: 0.9686 - val_loss: 0.0357 - val_acc: 0.9888\n",
      "Epoch 8/25\n",
      "31367/31367 [==============================] - 58s 2ms/step - loss: 0.1031 - acc: 0.9718 - val_loss: 0.0334 - val_acc: 0.9902\n",
      "Epoch 9/25\n",
      "31367/31367 [==============================] - 58s 2ms/step - loss: 0.0989 - acc: 0.9724 - val_loss: 0.0416 - val_acc: 0.9876\n",
      "Epoch 10/25\n",
      "31367/31367 [==============================] - 58s 2ms/step - loss: 0.1136 - acc: 0.9705 - val_loss: 0.0796 - val_acc: 0.9756\n",
      "Epoch 11/25\n",
      "31367/31367 [==============================] - 58s 2ms/step - loss: 0.0892 - acc: 0.9748 - val_loss: 0.0267 - val_acc: 0.9927\n",
      "Epoch 12/25\n",
      "31367/31367 [==============================] - 58s 2ms/step - loss: 0.0760 - acc: 0.9794 - val_loss: 0.0282 - val_acc: 0.9923\n",
      "Epoch 13/25\n",
      "31367/31367 [==============================] - 57s 2ms/step - loss: 0.0877 - acc: 0.9767 - val_loss: 0.0270 - val_acc: 0.9929\n",
      "Epoch 14/25\n",
      "31367/31367 [==============================] - 58s 2ms/step - loss: 0.0865 - acc: 0.9775 - val_loss: 0.0256 - val_acc: 0.9940\n",
      "Epoch 15/25\n",
      "31367/31367 [==============================] - 58s 2ms/step - loss: 0.0848 - acc: 0.9768 - val_loss: 0.0260 - val_acc: 0.9934\n",
      "Epoch 16/25\n",
      "31367/31367 [==============================] - 57s 2ms/step - loss: 0.0680 - acc: 0.9816 - val_loss: 0.0286 - val_acc: 0.9922\n",
      "Epoch 17/25\n",
      "31367/31367 [==============================] - 58s 2ms/step - loss: 0.0725 - acc: 0.9802 - val_loss: 0.0491 - val_acc: 0.9876\n",
      "Epoch 18/25\n",
      "31367/31367 [==============================] - 58s 2ms/step - loss: 0.1152 - acc: 0.9730 - val_loss: 0.0212 - val_acc: 0.9940\n",
      "Epoch 19/25\n",
      "31367/31367 [==============================] - 58s 2ms/step - loss: 0.0726 - acc: 0.9816 - val_loss: 0.0212 - val_acc: 0.9957\n",
      "Epoch 20/25\n",
      "31367/31367 [==============================] - 58s 2ms/step - loss: 0.0667 - acc: 0.9840 - val_loss: 0.0196 - val_acc: 0.9957\n",
      "Epoch 21/25\n",
      "31367/31367 [==============================] - 58s 2ms/step - loss: 0.0684 - acc: 0.9823 - val_loss: 0.0353 - val_acc: 0.9922\n",
      "Epoch 22/25\n",
      "31367/31367 [==============================] - 58s 2ms/step - loss: 0.0666 - acc: 0.9830 - val_loss: 0.0191 - val_acc: 0.9948\n",
      "Epoch 23/25\n",
      "31367/31367 [==============================] - 60s 2ms/step - loss: 0.0713 - acc: 0.9824 - val_loss: 0.0207 - val_acc: 0.9949\n",
      "Epoch 24/25\n",
      "31367/31367 [==============================] - 61s 2ms/step - loss: 0.0963 - acc: 0.9760 - val_loss: 0.0502 - val_acc: 0.9902\n",
      "Epoch 25/25\n",
      "31367/31367 [==============================] - 61s 2ms/step - loss: 0.1111 - acc: 0.9733 - val_loss: 0.0212 - val_acc: 0.9945\n"
     ]
    }
   ],
   "source": [
    "model.compile(loss='categorical_crossentropy', optimizer='adam', metrics=['accuracy'])\n",
    "history = model.fit(x_train, y_train, batch_size=64, epochs=25, validation_data=(x_test, y_test), verbose=1)"
   ]
  },
  {
   "cell_type": "code",
   "execution_count": 8,
   "metadata": {},
   "outputs": [],
   "source": [
    "model.save('traffic_signal.h5')"
   ]
  },
  {
   "cell_type": "code",
   "execution_count": 9,
   "metadata": {},
   "outputs": [
    {
     "data": {
      "image/png": "[encoded data removed]",
      "text/plain": [
       "<Figure size 432x288 with 1 Axes>"
      ]
     },
     "metadata": {},
     "output_type": "display_data"
    }
   ],
   "source": [
    "plt.figure(0)\n",
    "plt.plot(history.history['acc'], label='training_acc')\n",
    "plt.plot(history.history['val_acc'], label='validation_acc')\n",
    "plt.title(\"Accuracy\")\n",
    "plt.xlabel(\"epochs\")\n",
    "plt.ylabel(\"accuracy\")\n",
    "plt.legend()\n",
    "plt.show()"
   ]
  },
  {
   "cell_type": "code",
   "execution_count": 10,
   "metadata": {},
   "outputs": [
    {
     "data": {
      "image/png": "[encoded data removed]",
      "text/plain": [
       "<Figure size 432x288 with 1 Axes>"
      ]
     },
     "metadata": {},
     "output_type": "display_data"
    }
   ],
   "source": [
    "plt.figure(1)\n",
    "plt.plot(history.history['loss'], label='training_loss')\n",
    "plt.plot(history.history['val_loss'], label='validation_loss')\n",
    "plt.title(\"Loss\")\n",
    "plt.xlabel('epochs')\n",
    "plt.ylabel('loss')\n",
    "plt.legend()\n",
    "plt.show()"
   ]
  },
  {
   "cell_type": "code",
   "execution_count": 11,
   "metadata": {},
   "outputs": [],
   "source": [
    "from sklearn.metrics import accuracy_score"
   ]
  },
  {
   "cell_type": "code",
   "execution_count": 12,
   "metadata": {},
   "outputs": [],
   "source": [
    "y = pd.read_csv('Test.csv')\n",
    "\n",
    "labels = y['ClassId'].values\n",
    "imgs = y['Path'].values"
   ]
  },
  {
   "cell_type": "code",
   "execution_count": 13,
   "metadata": {},
   "outputs": [],
   "source": [
    "test_data = []\n",
    "for img in imgs:\n",
    "    image = Image.open(img)\n",
    "    image = image.resize((50,50))\n",
    "    test_data.append(np.array(image))\n",
    "    \n",
    "x = np.array(test_data)"
   ]
  },
  {
   "cell_type": "code",
   "execution_count": 14,
   "metadata": {},
   "outputs": [],
   "source": [
    "pred = model.predict(x)\n",
    "pred = pred.argmax(axis=-1)"
   ]
  },
  {
   "cell_type": "code",
   "execution_count": 15,
   "metadata": {},
   "outputs": [
    {
     "name": "stdout",
     "output_type": "stream",
     "text": [
      "0.9790182106096595\n"
     ]
    }
   ],
   "source": [
    "print(accuracy_score(labels, pred))"
   ]
  },
  {
   "cell_type": "code",
   "execution_count": null,
   "metadata": {},
   "outputs": [],
   "source": []
  }
 ],
 "metadata": {
  "kernelspec": {
   "display_name": "Python 3",
   "language": "python",
   "name": "python3"
  },
  "language_info": {
   "codemirror_mode": {
    "name": "ipython",
    "version": 3
   },
   "file_extension": ".py",
   "mimetype": "text/x-python",
   "name": "python",
   "nbconvert_exporter": "python",
   "pygments_lexer": "ipython3",
   "version": "3.6.9"
  }
 },
 "nbformat": 4,
 "nbformat_minor": 2
}
